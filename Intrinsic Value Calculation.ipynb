{
 "cells": [
  {
   "cell_type": "code",
   "execution_count": 560,
   "id": "537ded80",
   "metadata": {},
   "outputs": [],
   "source": [
    "import numpy as np\n",
    "import pandas as pd\n",
    "\n",
    "import matplotlib.pyplot as plt\n",
    "import seaborn as sns\n",
    "\n",
    "from pconst import const\n"
   ]
  },
  {
   "cell_type": "code",
   "execution_count": 561,
   "id": "16b2d26f",
   "metadata": {},
   "outputs": [],
   "source": [
    "sns.set(rc={'figure.figsize':(15, 4)})\n",
    "\n",
    "pd.set_option('display.max_rows',5000)"
   ]
  },
  {
   "cell_type": "code",
   "execution_count": 562,
   "id": "c7177fee",
   "metadata": {},
   "outputs": [],
   "source": [
    "df = pd.read_csv('/Users/thejakamahaulpatha/PycharmProjects/Project - Undervalued Stock/Data Set/AAPL.csv')"
   ]
  },
  {
   "cell_type": "code",
   "execution_count": 563,
   "id": "c9398157",
   "metadata": {},
   "outputs": [
    {
     "data": {
      "text/plain": [
       "(10202, 7)"
      ]
     },
     "execution_count": 563,
     "metadata": {},
     "output_type": "execute_result"
    }
   ],
   "source": [
    "df.shape"
   ]
  },
  {
   "cell_type": "code",
   "execution_count": 564,
   "id": "dc10a58e",
   "metadata": {},
   "outputs": [
    {
     "data": {
      "text/html": [
       "<div>\n",
       "<style scoped>\n",
       "    .dataframe tbody tr th:only-of-type {\n",
       "        vertical-align: middle;\n",
       "    }\n",
       "\n",
       "    .dataframe tbody tr th {\n",
       "        vertical-align: top;\n",
       "    }\n",
       "\n",
       "    .dataframe thead th {\n",
       "        text-align: right;\n",
       "    }\n",
       "</style>\n",
       "<table border=\"1\" class=\"dataframe\">\n",
       "  <thead>\n",
       "    <tr style=\"text-align: right;\">\n",
       "      <th></th>\n",
       "      <th>Date</th>\n",
       "      <th>Open</th>\n",
       "      <th>High</th>\n",
       "      <th>Low</th>\n",
       "      <th>Close</th>\n",
       "      <th>Adj Close</th>\n",
       "      <th>Volume</th>\n",
       "    </tr>\n",
       "  </thead>\n",
       "  <tbody>\n",
       "    <tr>\n",
       "      <th>0</th>\n",
       "      <td>1980-12-12</td>\n",
       "      <td>0.128348</td>\n",
       "      <td>0.128906</td>\n",
       "      <td>0.128348</td>\n",
       "      <td>0.128348</td>\n",
       "      <td>0.100751</td>\n",
       "      <td>469033600</td>\n",
       "    </tr>\n",
       "    <tr>\n",
       "      <th>1</th>\n",
       "      <td>1980-12-15</td>\n",
       "      <td>0.122210</td>\n",
       "      <td>0.122210</td>\n",
       "      <td>0.121652</td>\n",
       "      <td>0.121652</td>\n",
       "      <td>0.095495</td>\n",
       "      <td>175884800</td>\n",
       "    </tr>\n",
       "    <tr>\n",
       "      <th>2</th>\n",
       "      <td>1980-12-16</td>\n",
       "      <td>0.113281</td>\n",
       "      <td>0.113281</td>\n",
       "      <td>0.112723</td>\n",
       "      <td>0.112723</td>\n",
       "      <td>0.088485</td>\n",
       "      <td>105728000</td>\n",
       "    </tr>\n",
       "    <tr>\n",
       "      <th>3</th>\n",
       "      <td>1980-12-17</td>\n",
       "      <td>0.115513</td>\n",
       "      <td>0.116071</td>\n",
       "      <td>0.115513</td>\n",
       "      <td>0.115513</td>\n",
       "      <td>0.090676</td>\n",
       "      <td>86441600</td>\n",
       "    </tr>\n",
       "    <tr>\n",
       "      <th>4</th>\n",
       "      <td>1980-12-18</td>\n",
       "      <td>0.118862</td>\n",
       "      <td>0.119420</td>\n",
       "      <td>0.118862</td>\n",
       "      <td>0.118862</td>\n",
       "      <td>0.093304</td>\n",
       "      <td>73449600</td>\n",
       "    </tr>\n",
       "  </tbody>\n",
       "</table>\n",
       "</div>"
      ],
      "text/plain": [
       "         Date      Open      High       Low     Close  Adj Close     Volume\n",
       "0  1980-12-12  0.128348  0.128906  0.128348  0.128348   0.100751  469033600\n",
       "1  1980-12-15  0.122210  0.122210  0.121652  0.121652   0.095495  175884800\n",
       "2  1980-12-16  0.113281  0.113281  0.112723  0.112723   0.088485  105728000\n",
       "3  1980-12-17  0.115513  0.116071  0.115513  0.115513   0.090676   86441600\n",
       "4  1980-12-18  0.118862  0.119420  0.118862  0.118862   0.093304   73449600"
      ]
     },
     "execution_count": 564,
     "metadata": {},
     "output_type": "execute_result"
    }
   ],
   "source": [
    "df.head()"
   ]
  },
  {
   "cell_type": "code",
   "execution_count": 565,
   "id": "2c5c2d91",
   "metadata": {},
   "outputs": [
    {
     "data": {
      "text/html": [
       "<div>\n",
       "<style scoped>\n",
       "    .dataframe tbody tr th:only-of-type {\n",
       "        vertical-align: middle;\n",
       "    }\n",
       "\n",
       "    .dataframe tbody tr th {\n",
       "        vertical-align: top;\n",
       "    }\n",
       "\n",
       "    .dataframe thead th {\n",
       "        text-align: right;\n",
       "    }\n",
       "</style>\n",
       "<table border=\"1\" class=\"dataframe\">\n",
       "  <thead>\n",
       "    <tr style=\"text-align: right;\">\n",
       "      <th></th>\n",
       "      <th>Date</th>\n",
       "      <th>Open</th>\n",
       "      <th>High</th>\n",
       "      <th>Low</th>\n",
       "      <th>Close</th>\n",
       "      <th>Adj Close</th>\n",
       "      <th>Volume</th>\n",
       "    </tr>\n",
       "  </thead>\n",
       "  <tbody>\n",
       "    <tr>\n",
       "      <th>10197</th>\n",
       "      <td>2021-05-24</td>\n",
       "      <td>126.010002</td>\n",
       "      <td>127.940002</td>\n",
       "      <td>125.940002</td>\n",
       "      <td>127.099998</td>\n",
       "      <td>127.099998</td>\n",
       "      <td>63092900</td>\n",
       "    </tr>\n",
       "    <tr>\n",
       "      <th>10198</th>\n",
       "      <td>2021-05-25</td>\n",
       "      <td>127.820000</td>\n",
       "      <td>128.320007</td>\n",
       "      <td>126.320000</td>\n",
       "      <td>126.900002</td>\n",
       "      <td>126.900002</td>\n",
       "      <td>72009500</td>\n",
       "    </tr>\n",
       "    <tr>\n",
       "      <th>10199</th>\n",
       "      <td>2021-05-26</td>\n",
       "      <td>126.959999</td>\n",
       "      <td>127.389999</td>\n",
       "      <td>126.419998</td>\n",
       "      <td>126.849998</td>\n",
       "      <td>126.849998</td>\n",
       "      <td>56575900</td>\n",
       "    </tr>\n",
       "    <tr>\n",
       "      <th>10200</th>\n",
       "      <td>2021-05-27</td>\n",
       "      <td>126.440002</td>\n",
       "      <td>127.639999</td>\n",
       "      <td>125.080002</td>\n",
       "      <td>125.279999</td>\n",
       "      <td>125.279999</td>\n",
       "      <td>94625600</td>\n",
       "    </tr>\n",
       "    <tr>\n",
       "      <th>10201</th>\n",
       "      <td>2021-05-28</td>\n",
       "      <td>125.570000</td>\n",
       "      <td>125.800003</td>\n",
       "      <td>124.550003</td>\n",
       "      <td>124.610001</td>\n",
       "      <td>124.610001</td>\n",
       "      <td>71232700</td>\n",
       "    </tr>\n",
       "  </tbody>\n",
       "</table>\n",
       "</div>"
      ],
      "text/plain": [
       "             Date        Open        High         Low       Close   Adj Close  \\\n",
       "10197  2021-05-24  126.010002  127.940002  125.940002  127.099998  127.099998   \n",
       "10198  2021-05-25  127.820000  128.320007  126.320000  126.900002  126.900002   \n",
       "10199  2021-05-26  126.959999  127.389999  126.419998  126.849998  126.849998   \n",
       "10200  2021-05-27  126.440002  127.639999  125.080002  125.279999  125.279999   \n",
       "10201  2021-05-28  125.570000  125.800003  124.550003  124.610001  124.610001   \n",
       "\n",
       "         Volume  \n",
       "10197  63092900  \n",
       "10198  72009500  \n",
       "10199  56575900  \n",
       "10200  94625600  \n",
       "10201  71232700  "
      ]
     },
     "execution_count": 565,
     "metadata": {},
     "output_type": "execute_result"
    }
   ],
   "source": [
    "df.tail()"
   ]
  },
  {
   "cell_type": "code",
   "execution_count": 566,
   "id": "7b6f66ae",
   "metadata": {},
   "outputs": [],
   "source": [
    "df['Date'] = pd.to_datetime(df['Date'])"
   ]
  },
  {
   "cell_type": "code",
   "execution_count": 567,
   "id": "fc911b55",
   "metadata": {},
   "outputs": [],
   "source": [
    "# df = df.set_index('Date')"
   ]
  },
  {
   "cell_type": "code",
   "execution_count": 568,
   "id": "f110c18c",
   "metadata": {
    "scrolled": false
   },
   "outputs": [
    {
     "data": {
      "text/plain": [
       "[<matplotlib.lines.Line2D at 0x7ff6c8304610>]"
      ]
     },
     "execution_count": 568,
     "metadata": {},
     "output_type": "execute_result"
    },
    {
     "data": {
      "image/png": "[encoded data removed]",
      "text/plain": [
       "<Figure size 1080x288 with 1 Axes>"
      ]
     },
     "metadata": {},
     "output_type": "display_data"
    }
   ],
   "source": [
    "plt.plot(df['Date'],df['High'],linewidth=0.5)"
   ]
  },
  {
   "cell_type": "code",
   "execution_count": 569,
   "id": "e9385762",
   "metadata": {},
   "outputs": [],
   "source": [
    "#Get the year from a Date object\n",
    "df['Year'] = pd.DatetimeIndex(df['Date']).year"
   ]
  },
  {
   "cell_type": "code",
   "execution_count": 570,
   "id": "b1b33a9f",
   "metadata": {},
   "outputs": [
    {
     "data": {
      "text/html": [
       "<div>\n",
       "<style scoped>\n",
       "    .dataframe tbody tr th:only-of-type {\n",
       "        vertical-align: middle;\n",
       "    }\n",
       "\n",
       "    .dataframe tbody tr th {\n",
       "        vertical-align: top;\n",
       "    }\n",
       "\n",
       "    .dataframe thead th {\n",
       "        text-align: right;\n",
       "    }\n",
       "</style>\n",
       "<table border=\"1\" class=\"dataframe\">\n",
       "  <thead>\n",
       "    <tr style=\"text-align: right;\">\n",
       "      <th></th>\n",
       "      <th>Date</th>\n",
       "      <th>Open</th>\n",
       "      <th>High</th>\n",
       "      <th>Low</th>\n",
       "      <th>Close</th>\n",
       "      <th>Adj Close</th>\n",
       "      <th>Volume</th>\n",
       "      <th>Year</th>\n",
       "    </tr>\n",
       "  </thead>\n",
       "  <tbody>\n",
       "    <tr>\n",
       "      <th>0</th>\n",
       "      <td>1980-12-12</td>\n",
       "      <td>0.128348</td>\n",
       "      <td>0.128906</td>\n",
       "      <td>0.128348</td>\n",
       "      <td>0.128348</td>\n",
       "      <td>0.100751</td>\n",
       "      <td>469033600</td>\n",
       "      <td>1980</td>\n",
       "    </tr>\n",
       "    <tr>\n",
       "      <th>1</th>\n",
       "      <td>1980-12-15</td>\n",
       "      <td>0.122210</td>\n",
       "      <td>0.122210</td>\n",
       "      <td>0.121652</td>\n",
       "      <td>0.121652</td>\n",
       "      <td>0.095495</td>\n",
       "      <td>175884800</td>\n",
       "      <td>1980</td>\n",
       "    </tr>\n",
       "    <tr>\n",
       "      <th>2</th>\n",
       "      <td>1980-12-16</td>\n",
       "      <td>0.113281</td>\n",
       "      <td>0.113281</td>\n",
       "      <td>0.112723</td>\n",
       "      <td>0.112723</td>\n",
       "      <td>0.088485</td>\n",
       "      <td>105728000</td>\n",
       "      <td>1980</td>\n",
       "    </tr>\n",
       "    <tr>\n",
       "      <th>3</th>\n",
       "      <td>1980-12-17</td>\n",
       "      <td>0.115513</td>\n",
       "      <td>0.116071</td>\n",
       "      <td>0.115513</td>\n",
       "      <td>0.115513</td>\n",
       "      <td>0.090676</td>\n",
       "      <td>86441600</td>\n",
       "      <td>1980</td>\n",
       "    </tr>\n",
       "    <tr>\n",
       "      <th>4</th>\n",
       "      <td>1980-12-18</td>\n",
       "      <td>0.118862</td>\n",
       "      <td>0.119420</td>\n",
       "      <td>0.118862</td>\n",
       "      <td>0.118862</td>\n",
       "      <td>0.093304</td>\n",
       "      <td>73449600</td>\n",
       "      <td>1980</td>\n",
       "    </tr>\n",
       "  </tbody>\n",
       "</table>\n",
       "</div>"
      ],
      "text/plain": [
       "        Date      Open      High       Low     Close  Adj Close     Volume  \\\n",
       "0 1980-12-12  0.128348  0.128906  0.128348  0.128348   0.100751  469033600   \n",
       "1 1980-12-15  0.122210  0.122210  0.121652  0.121652   0.095495  175884800   \n",
       "2 1980-12-16  0.113281  0.113281  0.112723  0.112723   0.088485  105728000   \n",
       "3 1980-12-17  0.115513  0.116071  0.115513  0.115513   0.090676   86441600   \n",
       "4 1980-12-18  0.118862  0.119420  0.118862  0.118862   0.093304   73449600   \n",
       "\n",
       "   Year  \n",
       "0  1980  \n",
       "1  1980  \n",
       "2  1980  \n",
       "3  1980  \n",
       "4  1980  "
      ]
     },
     "execution_count": 570,
     "metadata": {},
     "output_type": "execute_result"
    }
   ],
   "source": [
    "df.head()"
   ]
  },
  {
   "cell_type": "code",
   "execution_count": 571,
   "id": "a0ca1b0c",
   "metadata": {},
   "outputs": [
    {
     "data": {
      "text/plain": [
       "Date         datetime64[ns]\n",
       "Open                float64\n",
       "High                float64\n",
       "Low                 float64\n",
       "Close               float64\n",
       "Adj Close           float64\n",
       "Volume                int64\n",
       "Year                  int64\n",
       "dtype: object"
      ]
     },
     "execution_count": 571,
     "metadata": {},
     "output_type": "execute_result"
    }
   ],
   "source": [
    "df.dtypes"
   ]
  },
  {
   "cell_type": "code",
   "execution_count": 572,
   "id": "b6c1767d",
   "metadata": {},
   "outputs": [
    {
     "name": "stderr",
     "output_type": "stream",
     "text": [
      "<ipython-input-572-ff3e6614d596>:8: SettingWithCopyWarning: \n",
      "A value is trying to be set on a copy of a slice from a DataFrame\n",
      "\n",
      "See the caveats in the documentation: https://pandas.pydata.org/pandas-docs/stable/user_guide/indexing.html#returning-a-view-versus-a-copy\n",
      "  df['Growth Rate'][i] = ((df['Close'][i])-(df['Close'][i-1]))/df['Close'][i-1]\n"
     ]
    }
   ],
   "source": [
    "rows = df.count\n",
    "df['Growth Rate'] = \"\"\n",
    "\n",
    "for i in df.index:\n",
    "    year = df['Year'][i]\n",
    "    if year in range(2000,2011):\n",
    "        if i!=0:\n",
    "            df['Growth Rate'][i] = ((df['Close'][i])-(df['Close'][i-1]))/df['Close'][i-1]\n",
    "# # #     print(i)"
   ]
  },
  {
   "cell_type": "code",
   "execution_count": 573,
   "id": "15cd3969",
   "metadata": {},
   "outputs": [
    {
     "data": {
      "text/html": [
       "<div>\n",
       "<style scoped>\n",
       "    .dataframe tbody tr th:only-of-type {\n",
       "        vertical-align: middle;\n",
       "    }\n",
       "\n",
       "    .dataframe tbody tr th {\n",
       "        vertical-align: top;\n",
       "    }\n",
       "\n",
       "    .dataframe thead th {\n",
       "        text-align: right;\n",
       "    }\n",
       "</style>\n",
       "<table border=\"1\" class=\"dataframe\">\n",
       "  <thead>\n",
       "    <tr style=\"text-align: right;\">\n",
       "      <th></th>\n",
       "      <th>Date</th>\n",
       "      <th>Open</th>\n",
       "      <th>High</th>\n",
       "      <th>Low</th>\n",
       "      <th>Close</th>\n",
       "      <th>Adj Close</th>\n",
       "      <th>Volume</th>\n",
       "      <th>Year</th>\n",
       "      <th>Growth Rate</th>\n",
       "    </tr>\n",
       "  </thead>\n",
       "  <tbody>\n",
       "    <tr>\n",
       "      <th>0</th>\n",
       "      <td>1980-12-12</td>\n",
       "      <td>0.128348</td>\n",
       "      <td>0.128906</td>\n",
       "      <td>0.128348</td>\n",
       "      <td>0.128348</td>\n",
       "      <td>0.100751</td>\n",
       "      <td>469033600</td>\n",
       "      <td>1980</td>\n",
       "      <td></td>\n",
       "    </tr>\n",
       "    <tr>\n",
       "      <th>1</th>\n",
       "      <td>1980-12-15</td>\n",
       "      <td>0.122210</td>\n",
       "      <td>0.122210</td>\n",
       "      <td>0.121652</td>\n",
       "      <td>0.121652</td>\n",
       "      <td>0.095495</td>\n",
       "      <td>175884800</td>\n",
       "      <td>1980</td>\n",
       "      <td></td>\n",
       "    </tr>\n",
       "    <tr>\n",
       "      <th>2</th>\n",
       "      <td>1980-12-16</td>\n",
       "      <td>0.113281</td>\n",
       "      <td>0.113281</td>\n",
       "      <td>0.112723</td>\n",
       "      <td>0.112723</td>\n",
       "      <td>0.088485</td>\n",
       "      <td>105728000</td>\n",
       "      <td>1980</td>\n",
       "      <td></td>\n",
       "    </tr>\n",
       "    <tr>\n",
       "      <th>3</th>\n",
       "      <td>1980-12-17</td>\n",
       "      <td>0.115513</td>\n",
       "      <td>0.116071</td>\n",
       "      <td>0.115513</td>\n",
       "      <td>0.115513</td>\n",
       "      <td>0.090676</td>\n",
       "      <td>86441600</td>\n",
       "      <td>1980</td>\n",
       "      <td></td>\n",
       "    </tr>\n",
       "    <tr>\n",
       "      <th>4</th>\n",
       "      <td>1980-12-18</td>\n",
       "      <td>0.118862</td>\n",
       "      <td>0.119420</td>\n",
       "      <td>0.118862</td>\n",
       "      <td>0.118862</td>\n",
       "      <td>0.093304</td>\n",
       "      <td>73449600</td>\n",
       "      <td>1980</td>\n",
       "      <td></td>\n",
       "    </tr>\n",
       "  </tbody>\n",
       "</table>\n",
       "</div>"
      ],
      "text/plain": [
       "        Date      Open      High       Low     Close  Adj Close     Volume  \\\n",
       "0 1980-12-12  0.128348  0.128906  0.128348  0.128348   0.100751  469033600   \n",
       "1 1980-12-15  0.122210  0.122210  0.121652  0.121652   0.095495  175884800   \n",
       "2 1980-12-16  0.113281  0.113281  0.112723  0.112723   0.088485  105728000   \n",
       "3 1980-12-17  0.115513  0.116071  0.115513  0.115513   0.090676   86441600   \n",
       "4 1980-12-18  0.118862  0.119420  0.118862  0.118862   0.093304   73449600   \n",
       "\n",
       "   Year Growth Rate  \n",
       "0  1980              \n",
       "1  1980              \n",
       "2  1980              \n",
       "3  1980              \n",
       "4  1980              "
      ]
     },
     "execution_count": 573,
     "metadata": {},
     "output_type": "execute_result"
    }
   ],
   "source": [
    "df.head()"
   ]
  },
  {
   "cell_type": "code",
   "execution_count": 574,
   "id": "70782be2",
   "metadata": {},
   "outputs": [
    {
     "data": {
      "text/html": [
       "<div>\n",
       "<style scoped>\n",
       "    .dataframe tbody tr th:only-of-type {\n",
       "        vertical-align: middle;\n",
       "    }\n",
       "\n",
       "    .dataframe tbody tr th {\n",
       "        vertical-align: top;\n",
       "    }\n",
       "\n",
       "    .dataframe thead th {\n",
       "        text-align: right;\n",
       "    }\n",
       "</style>\n",
       "<table border=\"1\" class=\"dataframe\">\n",
       "  <thead>\n",
       "    <tr style=\"text-align: right;\">\n",
       "      <th></th>\n",
       "      <th>Date</th>\n",
       "      <th>Open</th>\n",
       "      <th>High</th>\n",
       "      <th>Low</th>\n",
       "      <th>Close</th>\n",
       "      <th>Adj Close</th>\n",
       "      <th>Volume</th>\n",
       "      <th>Year</th>\n",
       "      <th>Growth Rate</th>\n",
       "    </tr>\n",
       "  </thead>\n",
       "  <tbody>\n",
       "    <tr>\n",
       "      <th>10197</th>\n",
       "      <td>2021-05-24</td>\n",
       "      <td>126.010002</td>\n",
       "      <td>127.940002</td>\n",
       "      <td>125.940002</td>\n",
       "      <td>127.099998</td>\n",
       "      <td>127.099998</td>\n",
       "      <td>63092900</td>\n",
       "      <td>2021</td>\n",
       "      <td></td>\n",
       "    </tr>\n",
       "    <tr>\n",
       "      <th>10198</th>\n",
       "      <td>2021-05-25</td>\n",
       "      <td>127.820000</td>\n",
       "      <td>128.320007</td>\n",
       "      <td>126.320000</td>\n",
       "      <td>126.900002</td>\n",
       "      <td>126.900002</td>\n",
       "      <td>72009500</td>\n",
       "      <td>2021</td>\n",
       "      <td></td>\n",
       "    </tr>\n",
       "    <tr>\n",
       "      <th>10199</th>\n",
       "      <td>2021-05-26</td>\n",
       "      <td>126.959999</td>\n",
       "      <td>127.389999</td>\n",
       "      <td>126.419998</td>\n",
       "      <td>126.849998</td>\n",
       "      <td>126.849998</td>\n",
       "      <td>56575900</td>\n",
       "      <td>2021</td>\n",
       "      <td></td>\n",
       "    </tr>\n",
       "    <tr>\n",
       "      <th>10200</th>\n",
       "      <td>2021-05-27</td>\n",
       "      <td>126.440002</td>\n",
       "      <td>127.639999</td>\n",
       "      <td>125.080002</td>\n",
       "      <td>125.279999</td>\n",
       "      <td>125.279999</td>\n",
       "      <td>94625600</td>\n",
       "      <td>2021</td>\n",
       "      <td></td>\n",
       "    </tr>\n",
       "    <tr>\n",
       "      <th>10201</th>\n",
       "      <td>2021-05-28</td>\n",
       "      <td>125.570000</td>\n",
       "      <td>125.800003</td>\n",
       "      <td>124.550003</td>\n",
       "      <td>124.610001</td>\n",
       "      <td>124.610001</td>\n",
       "      <td>71232700</td>\n",
       "      <td>2021</td>\n",
       "      <td></td>\n",
       "    </tr>\n",
       "  </tbody>\n",
       "</table>\n",
       "</div>"
      ],
      "text/plain": [
       "            Date        Open        High         Low       Close   Adj Close  \\\n",
       "10197 2021-05-24  126.010002  127.940002  125.940002  127.099998  127.099998   \n",
       "10198 2021-05-25  127.820000  128.320007  126.320000  126.900002  126.900002   \n",
       "10199 2021-05-26  126.959999  127.389999  126.419998  126.849998  126.849998   \n",
       "10200 2021-05-27  126.440002  127.639999  125.080002  125.279999  125.279999   \n",
       "10201 2021-05-28  125.570000  125.800003  124.550003  124.610001  124.610001   \n",
       "\n",
       "         Volume  Year Growth Rate  \n",
       "10197  63092900  2021              \n",
       "10198  72009500  2021              \n",
       "10199  56575900  2021              \n",
       "10200  94625600  2021              \n",
       "10201  71232700  2021              "
      ]
     },
     "execution_count": 574,
     "metadata": {},
     "output_type": "execute_result"
    }
   ],
   "source": [
    "df.tail()"
   ]
  },
  {
   "cell_type": "code",
   "execution_count": 575,
   "id": "8f3defb4",
   "metadata": {},
   "outputs": [
    {
     "data": {
      "text/plain": [
       "3.9380854179265157"
      ]
     },
     "execution_count": 575,
     "metadata": {},
     "output_type": "execute_result"
    }
   ],
   "source": [
    "sum_Of_Growth_Rates = (df.loc[df['Growth Rate'] != '', \"Growth Rate\"].sum())\n",
    "\n",
    "sum_Of_Growth_Rates"
   ]
  },
  {
   "cell_type": "code",
   "execution_count": 576,
   "id": "5e6c29fa",
   "metadata": {},
   "outputs": [
    {
     "data": {
      "text/plain": [
       "0.0014232328940825861"
      ]
     },
     "execution_count": 576,
     "metadata": {},
     "output_type": "execute_result"
    }
   ],
   "source": [
    "count_Of_Growth_Rates = df.loc[df['Growth Rate'] != '', \"Growth Rate\"].count()\n",
    "average_GrowthRate_perDay = sum_Of_Growth_Rates /count_Of_Growth_Rates\n",
    "\n",
    "average_GrowthRate_perDay"
   ]
  },
  {
   "cell_type": "code",
   "execution_count": 577,
   "id": "004dbabb",
   "metadata": {},
   "outputs": [],
   "source": [
    "# Let's Calculate the growth rate in a different way"
   ]
  },
  {
   "cell_type": "code",
   "execution_count": 578,
   "id": "8fee2a63",
   "metadata": {},
   "outputs": [
    {
     "name": "stdout",
     "output_type": "stream",
     "text": [
      "0.999442 2000\n"
     ]
    }
   ],
   "source": [
    "for i in df.index:\n",
    "    year = df['Year'][i]\n",
    "    if year in range(2000,2011):\n",
    "        FirstRate = df['Close'][i]\n",
    "        FirstYear = df['Year'][i]\n",
    "        FirstIndex = i\n",
    "        break\n",
    "    \n",
    "print(FirstRate,FirstYear)"
   ]
  },
  {
   "cell_type": "code",
   "execution_count": 579,
   "id": "92fceff0",
   "metadata": {},
   "outputs": [
    {
     "name": "stdout",
     "output_type": "stream",
     "text": [
      "The Closing rate of the Last Date Chosen: 11.52\n",
      "Year:                                     2010\n",
      "Last Date :                               2010-12-31 00:00:00\n",
      "Index of the Last Date:                   7582\n"
     ]
    }
   ],
   "source": [
    "for i in df.index:\n",
    "    year = df['Year'][i]\n",
    "    if year in range(2000,2011):\n",
    "        LastRate = df['Close'][i]\n",
    "        LastYear = df['Year'][i]\n",
    "        LastDate = df['Date'][i]\n",
    "        LastIndex = i\n",
    "        \n",
    "    \n",
    "print(\"The Closing rate of the Last Date Chosen:\",LastRate)\n",
    "print(\"Year:                                    \",LastYear)\n",
    "print(\"Last Date :                              \",LastDate)\n",
    "print(\"Index of the Last Date:                  \",LastIndex)\n"
   ]
  },
  {
   "cell_type": "code",
   "execution_count": 580,
   "id": "421e80be",
   "metadata": {},
   "outputs": [
    {
     "data": {
      "text/plain": [
       "10.526431748915893"
      ]
     },
     "execution_count": 580,
     "metadata": {},
     "output_type": "execute_result"
    }
   ],
   "source": [
    "Average_GrowthRate = (LastRate-FirstRate)/FirstRate\n",
    "\n",
    "Average_GrowthRate"
   ]
  },
  {
   "cell_type": "code",
   "execution_count": 581,
   "id": "dbfd08f6",
   "metadata": {},
   "outputs": [],
   "source": [
    "# https://keisan.casio.com/exec/system/1232693402"
   ]
  },
  {
   "cell_type": "code",
   "execution_count": 582,
   "id": "9c6ad4f0",
   "metadata": {},
   "outputs": [
    {
     "data": {
      "text/plain": [
       "0.24454730376007205"
      ]
     },
     "execution_count": 582,
     "metadata": {},
     "output_type": "execute_result"
    }
   ],
   "source": [
    "Total_years = LastYear - FirstYear\n",
    "\n",
    "Daily_Compound_Rate = 360*((LastRate/FirstRate)**(1/(Total_years*360))-1)\n",
    "\n",
    "Daily_Compound_Rate"
   ]
  },
  {
   "cell_type": "markdown",
   "id": "b67772e3",
   "metadata": {},
   "source": [
    "##### Compound Annual Growth Rate"
   ]
  },
  {
   "cell_type": "code",
   "execution_count": 583,
   "id": "1b4f601a",
   "metadata": {},
   "outputs": [
    {
     "data": {
      "text/plain": [
       "0.27693705062390483"
      ]
     },
     "execution_count": 583,
     "metadata": {},
     "output_type": "execute_result"
    }
   ],
   "source": [
    "Compound_Annual_Growth_Rate = (LastRate/FirstRate)**(1/Total_years)-1\n",
    "Compound_Annual_Growth_Rate"
   ]
  },
  {
   "cell_type": "markdown",
   "id": "3e8a288c",
   "metadata": {},
   "source": [
    "##### Compound Daily Growth Rate"
   ]
  },
  {
   "cell_type": "code",
   "execution_count": 584,
   "id": "8f8abd60",
   "metadata": {},
   "outputs": [
    {
     "data": {
      "text/plain": [
       "0.0008842094866183814"
      ]
     },
     "execution_count": 584,
     "metadata": {},
     "output_type": "execute_result"
    }
   ],
   "source": [
    "Compound_Daily_Growth_Rate = (LastRate/FirstRate)**(1/(LastIndex-FirstIndex))-1\n",
    "Compound_Daily_Growth_Rate"
   ]
  },
  {
   "cell_type": "markdown",
   "id": "db4c291b",
   "metadata": {},
   "source": [
    "### Let's Plot with the same compound rate for another 10 years  "
   ]
  },
  {
   "cell_type": "code",
   "execution_count": 585,
   "id": "62ccce35",
   "metadata": {},
   "outputs": [],
   "source": [
    "# Initialize a column for the new prediction Values\n",
    "df['NewPred'] =''\n",
    "\n",
    "#Initialize a column for Safety Zone of 30%\n",
    "df['Safety Zone'] = ''\n",
    "safeZone = 0.7"
   ]
  },
  {
   "cell_type": "code",
   "execution_count": 586,
   "id": "5726b30e",
   "metadata": {},
   "outputs": [
    {
     "data": {
      "text/plain": [
       "Timestamp('2010-12-31 00:00:00')"
      ]
     },
     "execution_count": 586,
     "metadata": {},
     "output_type": "execute_result"
    }
   ],
   "source": [
    "LastDate"
   ]
  },
  {
   "cell_type": "code",
   "execution_count": 587,
   "id": "3839547c",
   "metadata": {},
   "outputs": [
    {
     "data": {
      "text/plain": [
       "7582"
      ]
     },
     "execution_count": 587,
     "metadata": {},
     "output_type": "execute_result"
    }
   ],
   "source": [
    "LastIndex"
   ]
  },
  {
   "cell_type": "code",
   "execution_count": 588,
   "id": "996c7d28",
   "metadata": {
    "collapsed": true
   },
   "outputs": [
    {
     "name": "stderr",
     "output_type": "stream",
     "text": [
      "<ipython-input-588-a8654f4629f3>:3: SettingWithCopyWarning: \n",
      "A value is trying to be set on a copy of a slice from a DataFrame\n",
      "\n",
      "See the caveats in the documentation: https://pandas.pydata.org/pandas-docs/stable/user_guide/indexing.html#returning-a-view-versus-a-copy\n",
      "  df['NewPred'][LastIndex] = df['Close'][LastIndex]\n",
      "<ipython-input-588-a8654f4629f3>:6: SettingWithCopyWarning: \n",
      "A value is trying to be set on a copy of a slice from a DataFrame\n",
      "\n",
      "See the caveats in the documentation: https://pandas.pydata.org/pandas-docs/stable/user_guide/indexing.html#returning-a-view-versus-a-copy\n",
      "  df['NewPred'][i] = df['NewPred'][i-1]+((df['NewPred'][i-1])*Compound_Daily_Growth_Rate)\n",
      "<ipython-input-588-a8654f4629f3>:7: SettingWithCopyWarning: \n",
      "A value is trying to be set on a copy of a slice from a DataFrame\n",
      "\n",
      "See the caveats in the documentation: https://pandas.pydata.org/pandas-docs/stable/user_guide/indexing.html#returning-a-view-versus-a-copy\n",
      "  df['Safety Zone'][i] = df['NewPred'][i]*safeZone\n"
     ]
    }
   ],
   "source": [
    "LastRow = df['Date'].tolist().index(df['Date'][df.index[-1]])\n",
    "\n",
    "df['NewPred'][LastIndex] = df['Close'][LastIndex]\n",
    "\n",
    "for i in range(LastIndex+1,LastRow):\n",
    "    df['NewPred'][i] = df['NewPred'][i-1]+((df['NewPred'][i-1])*Compound_Daily_Growth_Rate)\n",
    "    df['Safety Zone'][i] = df['NewPred'][i]*safeZone"
   ]
  },
  {
   "cell_type": "code",
   "execution_count": 589,
   "id": "1743ad0f",
   "metadata": {},
   "outputs": [
    {
     "data": {
      "text/plain": [
       "<bound method NDFrame.tail of 0                  \n",
       "1                  \n",
       "2                  \n",
       "3                  \n",
       "4                  \n",
       "            ...    \n",
       "10197    116.195118\n",
       "10198    116.297858\n",
       "10199     116.40069\n",
       "10200    116.503613\n",
       "10201              \n",
       "Name: NewPred, Length: 10202, dtype: object>"
      ]
     },
     "execution_count": 589,
     "metadata": {},
     "output_type": "execute_result"
    }
   ],
   "source": [
    "df['NewPred'].tail"
   ]
  },
  {
   "cell_type": "code",
   "execution_count": 590,
   "id": "3ac8a405",
   "metadata": {},
   "outputs": [
    {
     "data": {
      "text/plain": [
       "10197    81.336582\n",
       "10198    81.408501\n",
       "10199    81.480483\n",
       "10200    81.552529\n",
       "10201             \n",
       "Name: Safety Zone, dtype: object"
      ]
     },
     "execution_count": 590,
     "metadata": {},
     "output_type": "execute_result"
    }
   ],
   "source": [
    "df['Safety Zone'].tail()"
   ]
  },
  {
   "cell_type": "code",
   "execution_count": 591,
   "id": "89bb27c7",
   "metadata": {},
   "outputs": [],
   "source": [
    "#Let's Convert the Object Type to Float in order to plot it "
   ]
  },
  {
   "cell_type": "code",
   "execution_count": 592,
   "id": "58543307",
   "metadata": {
    "collapsed": true
   },
   "outputs": [
    {
     "name": "stderr",
     "output_type": "stream",
     "text": [
      "<ipython-input-592-f4f4d2d6a994>:5: SettingWithCopyWarning: \n",
      "A value is trying to be set on a copy of a slice from a DataFrame\n",
      "\n",
      "See the caveats in the documentation: https://pandas.pydata.org/pandas-docs/stable/user_guide/indexing.html#returning-a-view-versus-a-copy\n",
      "  df['NewPred'][i] = 0.0\n",
      "<ipython-input-592-f4f4d2d6a994>:6: SettingWithCopyWarning: \n",
      "A value is trying to be set on a copy of a slice from a DataFrame\n",
      "\n",
      "See the caveats in the documentation: https://pandas.pydata.org/pandas-docs/stable/user_guide/indexing.html#returning-a-view-versus-a-copy\n",
      "  df['Safety Zone'][i] = 0.0\n",
      "<ipython-input-592-f4f4d2d6a994>:9: SettingWithCopyWarning: \n",
      "A value is trying to be set on a copy of a slice from a DataFrame\n",
      "\n",
      "See the caveats in the documentation: https://pandas.pydata.org/pandas-docs/stable/user_guide/indexing.html#returning-a-view-versus-a-copy\n",
      "  df['Safety Zone'][i] = 0.0\n"
     ]
    }
   ],
   "source": [
    "val = df['NewPred'][0]\n",
    "\n",
    "for i in df.index :\n",
    "    if df['NewPred'][i] == val:\n",
    "        df['NewPred'][i] = 0.0\n",
    "        df['Safety Zone'][i] = 0.0\n",
    "        \n",
    "    elif df['Safety Zone'][i] == val:\n",
    "        df['Safety Zone'][i] = 0.0\n",
    "        \n",
    "    else:\n",
    "        df['NewPred'][i].astype(float)\n",
    "        df['Safety Zone'][i].astype(float)"
   ]
  },
  {
   "cell_type": "code",
   "execution_count": 593,
   "id": "de624470",
   "metadata": {},
   "outputs": [
    {
     "data": {
      "text/plain": [
       "[<matplotlib.lines.Line2D at 0x7ff71a6a52e0>]"
      ]
     },
     "execution_count": 593,
     "metadata": {},
     "output_type": "execute_result"
    },
    {
     "data": {
      "image/png": "[encoded data removed]",
      "text/plain": [
       "<Figure size 1080x288 with 1 Axes>"
      ]
     },
     "metadata": {},
     "output_type": "display_data"
    }
   ],
   "source": [
    "plt.plot(df['Date'],df['NewPred'],'r',linewidth=0.5)\n",
    "plt.plot(df['Date'],df['Close'],linewidth=0.5)\n",
    "plt.plot(df['Date'],df['Safety Zone'],'g',linewidth=0.5)"
   ]
  },
  {
   "cell_type": "code",
   "execution_count": null,
   "id": "928c450c",
   "metadata": {},
   "outputs": [],
   "source": []
  },
  {
   "cell_type": "code",
   "execution_count": null,
   "id": "d5df6dcc",
   "metadata": {},
   "outputs": [],
   "source": []
  },
  {
   "cell_type": "code",
   "execution_count": null,
   "id": "2274d3d4",
   "metadata": {},
   "outputs": [],
   "source": []
  }
 ],
 "metadata": {
  "kernelspec": {
   "display_name": "Python 3",
   "language": "python",
   "name": "python3"
  },
  "language_info": {
   "codemirror_mode": {
    "name": "ipython",
    "version": 3
   },
   "file_extension": ".py",
   "mimetype": "text/x-python",
   "name": "python",
   "nbconvert_exporter": "python",
   "pygments_lexer": "ipython3",
   "version": "3.9.4"
  }
 },
 "nbformat": 4,
 "nbformat_minor": 5
}
